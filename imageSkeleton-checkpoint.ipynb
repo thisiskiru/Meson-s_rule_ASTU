{
 "cells": [
  {
   "cell_type": "code",
   "execution_count": 16,
   "metadata": {},
   "outputs": [],
   "source": [
    "import numpy as np\n",
    "import cv2\n",
    "\n",
    "%matplotlib inline\n",
    "import matplotlib.pyplot as plt\n",
    "\n",
    "from scipy.misc import toimage, fromimage\n",
    "from skimage.morphology import skeletonize"
   ]
  },
  {
   "cell_type": "code",
   "execution_count": 18,
   "metadata": {},
   "outputs": [],
   "source": [
    "# opening the image and converting it to grayscale\n",
    "a = cv2.imread('000004.jpg',1)\n",
    "\n",
    "print(a)\n",
    "#plt.imshow(a)\n",
    "\n",
    "\n",
    "# converting a to an ndarray and normalizing it\n",
    "#a=a/np.max(a)\n",
    "# performing skeletonization\n",
    "#b = skeletonize(a)\n",
    "# converting b from an ndarray to an image\n",
    "#plt.imshow(b)\n",
    "# saving the image as skeleton_output.png\n",
    "# in the folder Figures\n",
    "#c.save('../figures//skeleton_output.png')"
   ]
  },
  {
   "cell_type": "code",
   "execution_count": null,
   "metadata": {},
   "outputs": [],
   "source": []
  },
  {
   "cell_type": "code",
   "execution_count": null,
   "metadata": {},
   "outputs": [],
   "source": []
  }
 ],
 "metadata": {
  "kernelspec": {
   "display_name": "Python 3",
   "language": "python",
   "name": "python3"
  },
  "language_info": {
   "codemirror_mode": {
    "name": "ipython",
    "version": 3
   },
   "file_extension": ".py",
   "mimetype": "text/x-python",
   "name": "python",
   "nbconvert_exporter": "python",
   "pygments_lexer": "ipython3",
   "version": "3.7.3"
  }
 },
 "nbformat": 4,
 "nbformat_minor": 2
}
